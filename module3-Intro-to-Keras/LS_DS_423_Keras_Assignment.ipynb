{
 "cells": [
  {
   "cell_type": "markdown",
   "metadata": {
    "colab_type": "text",
    "id": "pBQsZEJmubLs"
   },
   "source": [
    "<img align=\"left\" src=\"https://lever-client-logos.s3.amazonaws.com/864372b1-534c-480e-acd5-9711f850815c-1524247202159.png\" width=200>\n",
    "<br></br>\n",
    "\n",
    "# Neural Network Framework (Keras)\n",
    "\n",
    "## *Data Science Unit 4 Sprint 2 Assignment 3*\n",
    "\n",
    "## Use the Keras Library to build a Multi-Layer Perceptron Model on the Boston Housing dataset\n",
    "\n",
    "- The Boston Housing dataset comes with the Keras library so use Keras to import it into your notebook. \n",
    "- Normalize the data (all features should have roughly the same scale)\n",
    "- Import the type of model and layers that you will need from Keras.\n",
    "- Instantiate a model object and use `model.add()` to add layers to your model\n",
    "- Since this is a regression model you will have a single output node in the final layer.\n",
    "- Use activation functions that are appropriate for this task\n",
    "- Compile your model\n",
    "- Fit your model and report its accuracy in terms of Mean Squared Error\n",
    "- Use the history object that is returned from model.fit to make graphs of the model's loss or train/validation accuracies by epoch. \n",
    "- Run this same data through a linear regression model. Which achieves higher accuracy?\n",
    "- Do a little bit of feature engineering and see how that affects your neural network model. (you will need to change your model to accept more inputs)\n",
    "- After feature engineering, which model sees a greater accuracy boost due to the new features?"
   ]
  },
  {
   "cell_type": "code",
   "execution_count": 140,
   "metadata": {
    "colab": {},
    "colab_type": "code",
    "id": "8NLTAR87uYJ-"
   },
   "outputs": [],
   "source": [
    "# Import the data\n",
    "\n",
    "from tensorflow.keras.datasets import boston_housing\n",
    "from tensorflow import keras\n",
    "import numpy as np\n",
    "\n",
    "np.random.seed(666)\n",
    "\n",
    "# Separate into train/test\n",
    "(X_train, y_train), (X_test, y_test) = boston_housing.load_data()"
   ]
  },
  {
   "cell_type": "code",
   "execution_count": 141,
   "metadata": {},
   "outputs": [
    {
     "data": {
      "text/plain": [
       "array([15.2, 42.3, 50. , 21.1, 17.7, 18.5, 11.3, 15.6, 15.6, 14.4, 12.1,\n",
       "       17.9, 23.1, 19.9, 15.7,  8.8, 50. , 22.5, 24.1, 27.5, 10.9, 30.8,\n",
       "       32.9, 24. , 18.5, 13.3, 22.9, 34.7, 16.6, 17.5, 22.3, 16.1, 14.9,\n",
       "       23.1, 34.9, 25. , 13.9, 13.1, 20.4, 20. , 15.2, 24.7, 22.2, 16.7,\n",
       "       12.7, 15.6, 18.4, 21. , 30.1, 15.1, 18.7,  9.6, 31.5, 24.8, 19.1,\n",
       "       22. , 14.5, 11. , 32. , 29.4, 20.3, 24.4, 14.6, 19.5, 14.1, 14.3,\n",
       "       15.6, 10.5,  6.3, 19.3, 19.3, 13.4, 36.4, 17.8, 13.5, 16.5,  8.3,\n",
       "       14.3, 16. , 13.4, 28.6, 43.5, 20.2, 22. , 23. , 20.7, 12.5, 48.5,\n",
       "       14.6, 13.4, 23.7, 50. , 21.7, 39.8, 38.7, 22.2, 34.9, 22.5, 31.1,\n",
       "       28.7, 46. , 41.7, 21. , 26.6, 15. , 24.4, 13.3, 21.2, 11.7, 21.7,\n",
       "       19.4, 50. , 22.8, 19.7, 24.7, 36.2, 14.2, 18.9, 18.3, 20.6, 24.6,\n",
       "       18.2,  8.7, 44. , 10.4, 13.2, 21.2, 37. , 30.7, 22.9, 20. , 19.3,\n",
       "       31.7, 32. , 23.1, 18.8, 10.9, 50. , 19.6,  5. , 14.4, 19.8, 13.8,\n",
       "       19.6, 23.9, 24.5, 25. , 19.9, 17.2, 24.6, 13.5, 26.6, 21.4, 11.9,\n",
       "       22.6, 19.6,  8.5, 23.7, 23.1, 22.4, 20.5, 23.6, 18.4, 35.2, 23.1,\n",
       "       27.9, 20.6, 23.7, 28. , 13.6, 27.1, 23.6, 20.6, 18.2, 21.7, 17.1,\n",
       "        8.4, 25.3, 13.8, 22.2, 18.4, 20.7, 31.6, 30.5, 20.3,  8.8, 19.2,\n",
       "       19.4, 23.1, 23. , 14.8, 48.8, 22.6, 33.4, 21.1, 13.6, 32.2, 13.1,\n",
       "       23.4, 18.9, 23.9, 11.8, 23.3, 22.8, 19.6, 16.7, 13.4, 22.2, 20.4,\n",
       "       21.8, 26.4, 14.9, 24.1, 23.8, 12.3, 29.1, 21. , 19.5, 23.3, 23.8,\n",
       "       17.8, 11.5, 21.7, 19.9, 25. , 33.4, 28.5, 21.4, 24.3, 27.5, 33.1,\n",
       "       16.2, 23.3, 48.3, 22.9, 22.8, 13.1, 12.7, 22.6, 15. , 15.3, 10.5,\n",
       "       24. , 18.5, 21.7, 19.5, 33.2, 23.2,  5. , 19.1, 12.7, 22.3, 10.2,\n",
       "       13.9, 16.3, 17. , 20.1, 29.9, 17.2, 37.3, 45.4, 17.8, 23.2, 29. ,\n",
       "       22. , 18. , 17.4, 34.6, 20.1, 25. , 15.6, 24.8, 28.2, 21.2, 21.4,\n",
       "       23.8, 31. , 26.2, 17.4, 37.9, 17.5, 20. ,  8.3, 23.9,  8.4, 13.8,\n",
       "        7.2, 11.7, 17.1, 21.6, 50. , 16.1, 20.4, 20.6, 21.4, 20.6, 36.5,\n",
       "        8.5, 24.8, 10.8, 21.9, 17.3, 18.9, 36.2, 14.9, 18.2, 33.3, 21.8,\n",
       "       19.7, 31.6, 24.8, 19.4, 22.8,  7.5, 44.8, 16.8, 18.7, 50. , 50. ,\n",
       "       19.5, 20.1, 50. , 17.2, 20.8, 19.3, 41.3, 20.4, 20.5, 13.8, 16.5,\n",
       "       23.9, 20.6, 31.5, 23.3, 16.8, 14. , 33.8, 36.1, 12.8, 18.3, 18.7,\n",
       "       19.1, 29. , 30.1, 50. , 50. , 22. , 11.9, 37.6, 50. , 22.7, 20.8,\n",
       "       23.5, 27.9, 50. , 19.3, 23.9, 22.6, 15.2, 21.7, 19.2, 43.8, 20.3,\n",
       "       33.2, 19.9, 22.5, 32.7, 22. , 17.1, 19. , 15. , 16.1, 25.1, 23.7,\n",
       "       28.7, 37.2, 22.6, 16.4, 25. , 29.8, 22.1, 17.4, 18.1, 30.3, 17.5,\n",
       "       24.7, 12.6, 26.5, 28.7, 13.3, 10.4, 24.4, 23. , 20. , 17.8,  7. ,\n",
       "       11.8, 24.4, 13.8, 19.4, 25.2, 19.4, 19.4, 29.1])"
      ]
     },
     "execution_count": 141,
     "metadata": {},
     "output_type": "execute_result"
    }
   ],
   "source": [
    "# Target is a continuous variable\n",
    "y_train"
   ]
  },
  {
   "cell_type": "code",
   "execution_count": 142,
   "metadata": {},
   "outputs": [
    {
     "data": {
      "text/plain": [
       "array([  1.23247,   0.     ,   8.14   ,   0.     ,   0.538  ,   6.142  ,\n",
       "        91.7    ,   3.9769 ,   4.     , 307.     ,  21.     , 396.9    ,\n",
       "        18.72   ])"
      ]
     },
     "execution_count": 142,
     "metadata": {},
     "output_type": "execute_result"
    }
   ],
   "source": [
    "X_train[0]"
   ]
  },
  {
   "cell_type": "code",
   "execution_count": 125,
   "metadata": {},
   "outputs": [],
   "source": [
    "# Normalize the data (numeric-non-binary)\n",
    "X_train = keras.utils.normalize(X_train)\n",
    "X_test = keras.utils.normalize(X_test)"
   ]
  },
  {
   "cell_type": "code",
   "execution_count": 126,
   "metadata": {},
   "outputs": [],
   "source": [
    "# Import Models and Layers needed for Keras\n",
    "from tensorflow.keras.models import Sequential\n",
    "from tensorflow.keras.layers import Dense, Dropout # https://www.tensorflow.org/api_docs/python/tf/keras/layers/Dropout"
   ]
  },
  {
   "cell_type": "code",
   "execution_count": 127,
   "metadata": {},
   "outputs": [
    {
     "name": "stdout",
     "output_type": "stream",
     "text": [
      "(13,) ()\n"
     ]
    }
   ],
   "source": [
    "print(X_train[0].shape, y_train[0].shape)"
   ]
  },
  {
   "cell_type": "code",
   "execution_count": 128,
   "metadata": {},
   "outputs": [],
   "source": [
    "model = Sequential()\n",
    "model.add(Dense(26, input_shape=(13,), activation='relu'))\n",
    "model.add(Dense(54, activation='relu'))\n",
    "model.add(Dense(1, activation='relu'))"
   ]
  },
  {
   "cell_type": "code",
   "execution_count": 129,
   "metadata": {},
   "outputs": [],
   "source": [
    "model.compile(loss='mae', optimizer='adam')"
   ]
  },
  {
   "cell_type": "code",
   "execution_count": 130,
   "metadata": {},
   "outputs": [
    {
     "name": "stdout",
     "output_type": "stream",
     "text": [
      "Train on 404 samples, validate on 102 samples\n",
      "Epoch 1/50\n",
      "404/404 [==============================] - 0s 662us/sample - loss: 22.0893 - val_loss: 22.5738\n",
      "Epoch 2/50\n",
      "404/404 [==============================] - 0s 116us/sample - loss: 21.7106 - val_loss: 22.1549\n",
      "Epoch 3/50\n",
      "404/404 [==============================] - 0s 104us/sample - loss: 21.2357 - val_loss: 21.5956\n",
      "Epoch 4/50\n",
      "404/404 [==============================] - 0s 92us/sample - loss: 20.5816 - val_loss: 20.8143\n",
      "Epoch 5/50\n",
      "404/404 [==============================] - 0s 99us/sample - loss: 19.6837 - val_loss: 19.7577\n",
      "Epoch 6/50\n",
      "404/404 [==============================] - 0s 104us/sample - loss: 18.4575 - val_loss: 18.3066\n",
      "Epoch 7/50\n",
      "404/404 [==============================] - 0s 101us/sample - loss: 16.8062 - val_loss: 16.3937\n",
      "Epoch 8/50\n",
      "404/404 [==============================] - 0s 89us/sample - loss: 14.6633 - val_loss: 14.0638\n",
      "Epoch 9/50\n",
      "404/404 [==============================] - 0s 87us/sample - loss: 12.0137 - val_loss: 11.3754\n",
      "Epoch 10/50\n",
      "404/404 [==============================] - 0s 138us/sample - loss: 9.1784 - val_loss: 8.6174\n",
      "Epoch 11/50\n",
      "404/404 [==============================] - 0s 101us/sample - loss: 6.7872 - val_loss: 6.6947\n",
      "Epoch 12/50\n",
      "404/404 [==============================] - 0s 89us/sample - loss: 6.0430 - val_loss: 6.2106\n",
      "Epoch 13/50\n",
      "404/404 [==============================] - 0s 101us/sample - loss: 6.0650 - val_loss: 6.1824\n",
      "Epoch 14/50\n",
      "404/404 [==============================] - 0s 92us/sample - loss: 6.0069 - val_loss: 6.1806\n",
      "Epoch 15/50\n",
      "404/404 [==============================] - 0s 104us/sample - loss: 5.9612 - val_loss: 6.2486\n",
      "Epoch 16/50\n",
      "404/404 [==============================] - 0s 92us/sample - loss: 5.9105 - val_loss: 6.1887\n",
      "Epoch 17/50\n",
      "404/404 [==============================] - 0s 94us/sample - loss: 5.8703 - val_loss: 6.1645\n",
      "Epoch 18/50\n",
      "404/404 [==============================] - 0s 94us/sample - loss: 5.8326 - val_loss: 6.1871\n",
      "Epoch 19/50\n",
      "404/404 [==============================] - 0s 89us/sample - loss: 5.7970 - val_loss: 6.1410\n",
      "Epoch 20/50\n",
      "404/404 [==============================] - 0s 89us/sample - loss: 5.7640 - val_loss: 6.1245\n",
      "Epoch 21/50\n",
      "404/404 [==============================] - 0s 89us/sample - loss: 5.7196 - val_loss: 6.0522\n",
      "Epoch 22/50\n",
      "404/404 [==============================] - 0s 101us/sample - loss: 5.6931 - val_loss: 6.0192\n",
      "Epoch 23/50\n",
      "404/404 [==============================] - 0s 101us/sample - loss: 5.6487 - val_loss: 6.0651\n",
      "Epoch 24/50\n",
      "404/404 [==============================] - 0s 87us/sample - loss: 5.6241 - val_loss: 6.0264\n",
      "Epoch 25/50\n",
      "404/404 [==============================] - 0s 94us/sample - loss: 5.5858 - val_loss: 5.9940\n",
      "Epoch 26/50\n",
      "404/404 [==============================] - 0s 97us/sample - loss: 5.5528 - val_loss: 5.9709\n",
      "Epoch 27/50\n",
      "404/404 [==============================] - 0s 89us/sample - loss: 5.5241 - val_loss: 5.9588\n",
      "Epoch 28/50\n",
      "404/404 [==============================] - 0s 94us/sample - loss: 5.4993 - val_loss: 5.9396\n",
      "Epoch 29/50\n",
      "404/404 [==============================] - 0s 92us/sample - loss: 5.4673 - val_loss: 5.9147\n",
      "Epoch 30/50\n",
      "404/404 [==============================] - 0s 92us/sample - loss: 5.4476 - val_loss: 5.8977\n",
      "Epoch 31/50\n",
      "404/404 [==============================] - 0s 92us/sample - loss: 5.4204 - val_loss: 5.9294\n",
      "Epoch 32/50\n",
      "404/404 [==============================] - 0s 92us/sample - loss: 5.4073 - val_loss: 5.8522\n",
      "Epoch 33/50\n",
      "404/404 [==============================] - 0s 92us/sample - loss: 5.3757 - val_loss: 5.8929\n",
      "Epoch 34/50\n",
      "404/404 [==============================] - 0s 92us/sample - loss: 5.3577 - val_loss: 5.8522\n",
      "Epoch 35/50\n",
      "404/404 [==============================] - 0s 92us/sample - loss: 5.3299 - val_loss: 5.8830\n",
      "Epoch 36/50\n",
      "404/404 [==============================] - 0s 89us/sample - loss: 5.3285 - val_loss: 5.8815\n",
      "Epoch 37/50\n",
      "404/404 [==============================] - 0s 92us/sample - loss: 5.2945 - val_loss: 5.8557\n",
      "Epoch 38/50\n",
      "404/404 [==============================] - 0s 92us/sample - loss: 5.2771 - val_loss: 5.8681\n",
      "Epoch 39/50\n",
      "404/404 [==============================] - 0s 94us/sample - loss: 5.2637 - val_loss: 5.8125\n",
      "Epoch 40/50\n",
      "404/404 [==============================] - 0s 97us/sample - loss: 5.2412 - val_loss: 5.8301\n",
      "Epoch 41/50\n",
      "404/404 [==============================] - 0s 92us/sample - loss: 5.2252 - val_loss: 5.8260\n",
      "Epoch 42/50\n",
      "404/404 [==============================] - 0s 89us/sample - loss: 5.2122 - val_loss: 5.8100\n",
      "Epoch 43/50\n",
      "404/404 [==============================] - 0s 111us/sample - loss: 5.1947 - val_loss: 5.8072\n",
      "Epoch 44/50\n",
      "404/404 [==============================] - 0s 94us/sample - loss: 5.1810 - val_loss: 5.8119\n",
      "Epoch 45/50\n",
      "404/404 [==============================] - 0s 89us/sample - loss: 5.1768 - val_loss: 5.7667\n",
      "Epoch 46/50\n",
      "404/404 [==============================] - 0s 97us/sample - loss: 5.1550 - val_loss: 5.7932\n",
      "Epoch 47/50\n",
      "404/404 [==============================] - 0s 89us/sample - loss: 5.1479 - val_loss: 5.8133\n",
      "Epoch 48/50\n",
      "404/404 [==============================] - 0s 94us/sample - loss: 5.1457 - val_loss: 5.7520\n",
      "Epoch 49/50\n",
      "404/404 [==============================] - 0s 94us/sample - loss: 5.1134 - val_loss: 5.7965\n",
      "Epoch 50/50\n",
      "404/404 [==============================] - 0s 89us/sample - loss: 5.1097 - val_loss: 5.7440\n"
     ]
    }
   ],
   "source": [
    "# Fit the model\n",
    "history = model.fit(X_train, y_train, epochs=50, validation_data=(X_test, y_test))"
   ]
  },
  {
   "cell_type": "code",
   "execution_count": 131,
   "metadata": {},
   "outputs": [
    {
     "name": "stdout",
     "output_type": "stream",
     "text": [
      "Help on dict object:\n",
      "\n",
      "class dict(object)\n",
      " |  dict() -> new empty dictionary\n",
      " |  dict(mapping) -> new dictionary initialized from a mapping object's\n",
      " |      (key, value) pairs\n",
      " |  dict(iterable) -> new dictionary initialized as if via:\n",
      " |      d = {}\n",
      " |      for k, v in iterable:\n",
      " |          d[k] = v\n",
      " |  dict(**kwargs) -> new dictionary initialized with the name=value pairs\n",
      " |      in the keyword argument list.  For example:  dict(one=1, two=2)\n",
      " |  \n",
      " |  Methods defined here:\n",
      " |  \n",
      " |  __contains__(self, key, /)\n",
      " |      True if the dictionary has the specified key, else False.\n",
      " |  \n",
      " |  __delitem__(self, key, /)\n",
      " |      Delete self[key].\n",
      " |  \n",
      " |  __eq__(self, value, /)\n",
      " |      Return self==value.\n",
      " |  \n",
      " |  __ge__(self, value, /)\n",
      " |      Return self>=value.\n",
      " |  \n",
      " |  __getattribute__(self, name, /)\n",
      " |      Return getattr(self, name).\n",
      " |  \n",
      " |  __getitem__(...)\n",
      " |      x.__getitem__(y) <==> x[y]\n",
      " |  \n",
      " |  __gt__(self, value, /)\n",
      " |      Return self>value.\n",
      " |  \n",
      " |  __init__(self, /, *args, **kwargs)\n",
      " |      Initialize self.  See help(type(self)) for accurate signature.\n",
      " |  \n",
      " |  __iter__(self, /)\n",
      " |      Implement iter(self).\n",
      " |  \n",
      " |  __le__(self, value, /)\n",
      " |      Return self<=value.\n",
      " |  \n",
      " |  __len__(self, /)\n",
      " |      Return len(self).\n",
      " |  \n",
      " |  __lt__(self, value, /)\n",
      " |      Return self<value.\n",
      " |  \n",
      " |  __ne__(self, value, /)\n",
      " |      Return self!=value.\n",
      " |  \n",
      " |  __repr__(self, /)\n",
      " |      Return repr(self).\n",
      " |  \n",
      " |  __setitem__(self, key, value, /)\n",
      " |      Set self[key] to value.\n",
      " |  \n",
      " |  __sizeof__(...)\n",
      " |      D.__sizeof__() -> size of D in memory, in bytes\n",
      " |  \n",
      " |  clear(...)\n",
      " |      D.clear() -> None.  Remove all items from D.\n",
      " |  \n",
      " |  copy(...)\n",
      " |      D.copy() -> a shallow copy of D\n",
      " |  \n",
      " |  get(self, key, default=None, /)\n",
      " |      Return the value for key if key is in the dictionary, else default.\n",
      " |  \n",
      " |  items(...)\n",
      " |      D.items() -> a set-like object providing a view on D's items\n",
      " |  \n",
      " |  keys(...)\n",
      " |      D.keys() -> a set-like object providing a view on D's keys\n",
      " |  \n",
      " |  pop(...)\n",
      " |      D.pop(k[,d]) -> v, remove specified key and return the corresponding value.\n",
      " |      If key is not found, d is returned if given, otherwise KeyError is raised\n",
      " |  \n",
      " |  popitem(...)\n",
      " |      D.popitem() -> (k, v), remove and return some (key, value) pair as a\n",
      " |      2-tuple; but raise KeyError if D is empty.\n",
      " |  \n",
      " |  setdefault(self, key, default=None, /)\n",
      " |      Insert key with a value of default if key is not in the dictionary.\n",
      " |      \n",
      " |      Return the value for key if key is in the dictionary, else default.\n",
      " |  \n",
      " |  update(...)\n",
      " |      D.update([E, ]**F) -> None.  Update D from dict/iterable E and F.\n",
      " |      If E is present and has a .keys() method, then does:  for k in E: D[k] = E[k]\n",
      " |      If E is present and lacks a .keys() method, then does:  for k, v in E: D[k] = v\n",
      " |      In either case, this is followed by: for k in F:  D[k] = F[k]\n",
      " |  \n",
      " |  values(...)\n",
      " |      D.values() -> an object providing a view on D's values\n",
      " |  \n",
      " |  ----------------------------------------------------------------------\n",
      " |  Class methods defined here:\n",
      " |  \n",
      " |  fromkeys(iterable, value=None, /) from builtins.type\n",
      " |      Create a new dictionary with keys from iterable and values set to value.\n",
      " |  \n",
      " |  ----------------------------------------------------------------------\n",
      " |  Static methods defined here:\n",
      " |  \n",
      " |  __new__(*args, **kwargs) from builtins.type\n",
      " |      Create and return a new object.  See help(type) for accurate signature.\n",
      " |  \n",
      " |  ----------------------------------------------------------------------\n",
      " |  Data and other attributes defined here:\n",
      " |  \n",
      " |  __hash__ = None\n",
      "\n"
     ]
    }
   ],
   "source": [
    "help(history.history)"
   ]
  },
  {
   "cell_type": "code",
   "execution_count": 132,
   "metadata": {},
   "outputs": [
    {
     "name": "stdout",
     "output_type": "stream",
     "text": [
      "dict_keys(['loss', 'val_loss'])\n"
     ]
    }
   ],
   "source": [
    "print(history.history.keys())"
   ]
  },
  {
   "cell_type": "code",
   "execution_count": 133,
   "metadata": {},
   "outputs": [
    {
     "data": {
      "image/png": "[encoded data removed]",
      "text/plain": [
       "<Figure size 432x288 with 1 Axes>"
      ]
     },
     "metadata": {
      "needs_background": "light"
     },
     "output_type": "display_data"
    }
   ],
   "source": [
    "# Plotting Loss by Epoch\n",
    "\n",
    "# The plot seems to taper off around the 10th Epoch\n",
    "\n",
    "plt.plot(history.history['loss'])\n",
    "plt.plot(history.history['val_loss'])\n",
    "plt.title('Model Loss')\n",
    "plt.ylabel('Loss')\n",
    "plt.xlabel('Epoch')\n",
    "plt.legend(['train', 'test'], loc='upper right')\n",
    "plt.show();"
   ]
  },
  {
   "cell_type": "code",
   "execution_count": 271,
   "metadata": {},
   "outputs": [],
   "source": [
    "from sklearn.linear_model import LinearRegression\n",
    "from sklearn.metrics import mean_squared_error as mse"
   ]
  },
  {
   "cell_type": "code",
   "execution_count": 272,
   "metadata": {},
   "outputs": [
    {
     "data": {
      "text/plain": [
       "LinearRegression(copy_X=True, fit_intercept=True, n_jobs=None, normalize=False)"
      ]
     },
     "execution_count": 272,
     "metadata": {},
     "output_type": "execute_result"
    }
   ],
   "source": [
    "np.random.seed(1)\n",
    "\n",
    "(X_train, y_train), (X_test, y_test) = boston_housing.load_data()\n",
    "\n",
    "lr = LinearRegression()\n",
    "lr.fit(X_train, y_train)"
   ]
  },
  {
   "cell_type": "code",
   "execution_count": 273,
   "metadata": {},
   "outputs": [],
   "source": [
    "y_pred = lr.predict(X_test)"
   ]
  },
  {
   "cell_type": "code",
   "execution_count": 274,
   "metadata": {},
   "outputs": [
    {
     "name": "stdout",
     "output_type": "stream",
     "text": [
      "MAE of Boston Dataset using Sklearn LinearRegression: 23.195599256423087\n"
     ]
    }
   ],
   "source": [
    "print(f'MAE of Boston Dataset using Sklearn LinearRegression: {mse(y_test, y_pred)}')"
   ]
  },
  {
   "cell_type": "code",
   "execution_count": 277,
   "metadata": {},
   "outputs": [
    {
     "name": "stdout",
     "output_type": "stream",
     "text": [
      "Train on 404 samples, validate on 102 samples\n",
      "Epoch 1/25\n",
      "404/404 [==============================] - 0s 647us/sample - loss: 602.4592 - val_loss: 627.7510\n",
      "Epoch 2/25\n",
      "404/404 [==============================] - 0s 94us/sample - loss: 593.9976 - val_loss: 619.2090\n",
      "Epoch 3/25\n",
      "404/404 [==============================] - 0s 92us/sample - loss: 586.2552 - val_loss: 612.1987\n",
      "Epoch 4/25\n",
      "404/404 [==============================] - 0s 92us/sample - loss: 580.0842 - val_loss: 606.6415\n",
      "Epoch 5/25\n",
      "404/404 [==============================] - 0s 92us/sample - loss: 575.3247 - val_loss: 602.3645\n",
      "Epoch 6/25\n",
      "404/404 [==============================] - 0s 109us/sample - loss: 571.5177 - val_loss: 598.5542\n",
      "Epoch 7/25\n",
      "404/404 [==============================] - 0s 97us/sample - loss: 567.4495 - val_loss: 593.7241\n",
      "Epoch 8/25\n",
      "404/404 [==============================] - 0s 92us/sample - loss: 562.2627 - val_loss: 587.4487\n",
      "Epoch 9/25\n",
      "404/404 [==============================] - 0s 87us/sample - loss: 555.5022 - val_loss: 579.6283\n",
      "Epoch 10/25\n",
      "404/404 [==============================] - 0s 87us/sample - loss: 547.4886 - val_loss: 570.6229\n",
      "Epoch 11/25\n",
      "404/404 [==============================] - 0s 87us/sample - loss: 538.2184 - val_loss: 560.2345\n",
      "Epoch 12/25\n",
      "404/404 [==============================] - 0s 89us/sample - loss: 527.4225 - val_loss: 548.0364\n",
      "Epoch 13/25\n",
      "404/404 [==============================] - 0s 92us/sample - loss: 514.4504 - val_loss: 532.7562\n",
      "Epoch 14/25\n",
      "404/404 [==============================] - 0s 94us/sample - loss: 498.4510 - val_loss: 514.9825\n",
      "Epoch 15/25\n",
      "404/404 [==============================] - 0s 92us/sample - loss: 480.1677 - val_loss: 494.9099\n",
      "Epoch 16/25\n",
      "404/404 [==============================] - 0s 89us/sample - loss: 460.0081 - val_loss: 473.1264\n",
      "Epoch 17/25\n",
      "404/404 [==============================] - 0s 92us/sample - loss: 438.3435 - val_loss: 449.9635\n",
      "Epoch 18/25\n",
      "404/404 [==============================] - 0s 109us/sample - loss: 415.3909 - val_loss: 425.8225\n",
      "Epoch 19/25\n",
      "404/404 [==============================] - 0s 123us/sample - loss: 391.9920 - val_loss: 400.8415\n",
      "Epoch 20/25\n",
      "404/404 [==============================] - 0s 114us/sample - loss: 367.3469 - val_loss: 375.9420\n",
      "Epoch 21/25\n",
      "404/404 [==============================] - 0s 121us/sample - loss: 343.1902 - val_loss: 350.4539\n",
      "Epoch 22/25\n",
      "404/404 [==============================] - 0s 109us/sample - loss: 318.5800 - val_loss: 325.4164\n",
      "Epoch 23/25\n",
      "404/404 [==============================] - 0s 97us/sample - loss: 294.5256 - val_loss: 300.8665\n",
      "Epoch 24/25\n",
      "404/404 [==============================] - 0s 97us/sample - loss: 271.3126 - val_loss: 277.5089\n",
      "Epoch 25/25\n",
      "404/404 [==============================] - 0s 97us/sample - loss: 249.2944 - val_loss: 255.4301\n"
     ]
    },
    {
     "data": {
      "text/plain": [
       "<tensorflow.python.keras.callbacks.History at 0x1f327d29128>"
      ]
     },
     "execution_count": 277,
     "metadata": {},
     "output_type": "execute_result"
    }
   ],
   "source": [
    "# Try to rectify the former model\n",
    "\n",
    "from tensorflow.keras.layers import Flatten\n",
    "\n",
    "np.random.seed(111)\n",
    "\n",
    "(X_train, y_train), (X_test, y_test) = boston_housing.load_data()\n",
    "\n",
    "X_train = X_train.astype('float32') / 255\n",
    "X_test = X_test.astype('float32') / 255\n",
    "\n",
    "model = Sequential([\n",
    "    Flatten(),\n",
    "    Dense(13, input_shape=(13,), activation='relu'),\n",
    "    Dense(6, activation='relu'),\n",
    "    Dense(1, activation='linear')\n",
    "])\n",
    "\n",
    "model.compile(loss='mse', optimizer='adam')\n",
    "\n",
    "model.fit(X_train, y_train,\n",
    "          epochs=25, validation_data=(X_test, y_test)\n",
    ")"
   ]
  },
  {
   "cell_type": "code",
   "execution_count": null,
   "metadata": {},
   "outputs": [],
   "source": []
  },
  {
   "cell_type": "markdown",
   "metadata": {
    "colab_type": "text",
    "id": "SfcFnOONyuNm"
   },
   "source": [
    "## Use the Keras Library to build an image recognition network using the Fashion-MNIST dataset (also comes with keras)\n",
    "\n",
    "- Load and preprocess the image data similar to how we preprocessed the MNIST data in class.\n",
    "- Make sure to one-hot encode your category labels\n",
    "- The number of nodes in your output layer should equal the number of classes you want to predict for Fashion-MNIST.\n",
    "- Try different hyperparameters. What is the highest accuracy that you are able to achieve.\n",
    "- Use the history object that is returned from model.fit to make graphs of the model's loss or train/validation accuracies by epoch. \n",
    "- Remember that neural networks fall prey to randomness so you may need to run your model multiple times (or use Cross Validation) in order to tell if a change to a hyperparameter is truly producing better results."
   ]
  },
  {
   "cell_type": "code",
   "execution_count": null,
   "metadata": {
    "colab": {},
    "colab_type": "code",
    "id": "szi6-IpuzaH1"
   },
   "outputs": [],
   "source": [
    "##### Your Code Here #####"
   ]
  },
  {
   "cell_type": "markdown",
   "metadata": {
    "colab_type": "text",
    "id": "zv_3xNMjzdLI"
   },
   "source": [
    "## Stretch Goals:\n",
    "\n",
    "- Use Hyperparameter Tuning to make the accuracy of your models as high as possible. (error as low as possible)\n",
    "- Use Cross Validation techniques to get more consistent results with your model.\n",
    "- Use GridSearchCV to try different combinations of hyperparameters. \n",
    "- Start looking into other types of Keras layers for CNNs and RNNs maybe try and build a CNN model for fashion-MNIST to see how the results compare."
   ]
  }
 ],
 "metadata": {
  "colab": {
   "name": "LS_DS_433_Keras_Assignment.ipynb",
   "provenance": [],
   "version": "0.3.2"
  },
  "kernelspec": {
   "display_name": "Neural Networks (Python3)",
   "language": "python",
   "name": "u4-s2-nn"
  },
  "language_info": {
   "codemirror_mode": {
    "name": "ipython",
    "version": 3
   },
   "file_extension": ".py",
   "mimetype": "text/x-python",
   "name": "python",
   "nbconvert_exporter": "python",
   "pygments_lexer": "ipython3",
   "version": "3.7.0"
  }
 },
 "nbformat": 4,
 "nbformat_minor": 4
}
